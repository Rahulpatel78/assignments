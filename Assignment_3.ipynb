{
 "cells": [
  {
   "cell_type": "markdown",
   "id": "09ecd1d1",
   "metadata": {},
   "source": [
    "# 1. Why are functions advantageous to have in your programs ?"
   ]
  },
  {
   "cell_type": "code",
   "execution_count": null,
   "id": "29cee606",
   "metadata": {},
   "outputs": [],
   "source": [
    "When we need to code, employing functions is crucial \n",
    "since it allows us to make our code reusable and reduce the number of times we need to produce the same thing. \n",
    "As a result, we can only create one and then use it as needed. \n",
    "Based on coding and math, the function is simple to read and comprehend and is straightforward to test."
   ]
  },
  {
   "cell_type": "markdown",
   "id": "aad6824a",
   "metadata": {},
   "source": [
    "# 2. When does the code in a function run: when it's specified or when it's called?"
   ]
  },
  {
   "cell_type": "code",
   "execution_count": null,
   "id": "30d3072f",
   "metadata": {},
   "outputs": [],
   "source": [
    "The code in a function executes when the function is called, not when the function is defined."
   ]
  },
  {
   "cell_type": "markdown",
   "id": "c5836835",
   "metadata": {},
   "source": [
    "# 3. What statement creates a function?"
   ]
  },
  {
   "cell_type": "code",
   "execution_count": null,
   "id": "5551b214",
   "metadata": {},
   "outputs": [],
   "source": [
    "A function is defined by using the def keyword, \n",
    "followed by a name of your choosing,\n",
    "followed by a set of parentheses which hold any parameters the function will take (they can be empty), and ending with a colon."
   ]
  },
  {
   "cell_type": "markdown",
   "id": "2de3a57c",
   "metadata": {},
   "source": [
    "# 4. What is the difference between a function and a function call?"
   ]
  },
  {
   "cell_type": "code",
   "execution_count": null,
   "id": "4aa06ab2",
   "metadata": {},
   "outputs": [],
   "source": [
    "function = A function is a piece of code which enhanced the reusability and modularity of your program.\n",
    "           It means that piece of code need not be written again.\n",
    "\n",
    "function call = A function call means invoking or calling that function. \n",
    "                Unless a function is called there is no use of that function."
   ]
  },
  {
   "cell_type": "markdown",
   "id": "7ee70cbe",
   "metadata": {},
   "source": [
    "# 5. How many global scopes are there in a Python program? How many local scopes?"
   ]
  },
  {
   "cell_type": "code",
   "execution_count": null,
   "id": "2095f95f",
   "metadata": {},
   "outputs": [],
   "source": [
    "A variable created in the main body of the Python code is a global variable and belongs to the global scope.\n",
    "\n",
    "A variable created inside a function belongs to the local scope of that function, and can only be used inside that function."
   ]
  },
  {
   "cell_type": "markdown",
   "id": "e9aa2242",
   "metadata": {},
   "source": [
    "# 6. What happens to variables in a local scope when the function call returns?"
   ]
  },
  {
   "cell_type": "code",
   "execution_count": null,
   "id": "730b8879",
   "metadata": {},
   "outputs": [],
   "source": [
    "When the execution of the function terminates (returns), the local variables are destroyed."
   ]
  },
  {
   "cell_type": "markdown",
   "id": "bad2e5e4",
   "metadata": {},
   "source": [
    "# 7. What is the concept of a return value? Is it possible to have a return value in an expression?"
   ]
  },
  {
   "cell_type": "code",
   "execution_count": null,
   "id": "211b429a",
   "metadata": {},
   "outputs": [],
   "source": [
    "A return value is the value that a function call evaluates to.\n",
    "Like any value, a return value can be used as part of an expression."
   ]
  },
  {
   "cell_type": "markdown",
   "id": "b339e521",
   "metadata": {},
   "source": [
    "# 8. If a function does not have a return statement, what is the return value of a call to that function?"
   ]
  },
  {
   "cell_type": "code",
   "execution_count": null,
   "id": "44c5a5fb",
   "metadata": {},
   "outputs": [],
   "source": [
    "So, if you don't explicitly use a return value in a return statement, or if you totally omit the return statement,\n",
    "then Python will implicitly return a default value for you. That default return value will always be None ."
   ]
  },
  {
   "cell_type": "markdown",
   "id": "5c7c56d5",
   "metadata": {},
   "source": [
    "# 9. How do you make a function variable refer to the global variable?"
   ]
  },
  {
   "cell_type": "code",
   "execution_count": null,
   "id": "49f2c1f2",
   "metadata": {},
   "outputs": [],
   "source": [
    "To create a global variable inside a function, you can use the global keyword.\n",
    "Global variables can be used by everyone, both inside of functions and outside.\n",
    "\n",
    "example :- \n",
    "def myfunc():\n",
    "    global x\n",
    "    x = \"fantastic\"\n",
    "\n",
    "myfunc()\n",
    "\n",
    "print(\"Python is \" + x)"
   ]
  },
  {
   "cell_type": "markdown",
   "id": "b8547555",
   "metadata": {},
   "source": [
    "# 10. What is the data type of None?"
   ]
  },
  {
   "cell_type": "code",
   "execution_count": null,
   "id": "a947452a",
   "metadata": {},
   "outputs": [],
   "source": [
    "The None keyword is used to define a null value, or no value at all.\n",
    "\n",
    "None is not the same as 0, False, or an empty string. None is a data type of its own (NoneType) and only None can be None.\n",
    "\n"
   ]
  },
  {
   "cell_type": "markdown",
   "id": "f90a53cc",
   "metadata": {},
   "source": [
    "# 11. What does the sentence import areallyourpetsnamederic do?"
   ]
  },
  {
   "cell_type": "code",
   "execution_count": null,
   "id": "404651b0",
   "metadata": {},
   "outputs": [],
   "source": [
    "That import statement imports a module named areallyourpetsnamederic. (This isn't a real Python module, by the way.)"
   ]
  },
  {
   "cell_type": "markdown",
   "id": "566537af",
   "metadata": {},
   "source": [
    "# 12. If you had a bacon() feature in a spam module, what would you call it after importing spam?"
   ]
  },
  {
   "cell_type": "code",
   "execution_count": null,
   "id": "268640b9",
   "metadata": {},
   "outputs": [],
   "source": [
    "This function can be called with spam.bacon()."
   ]
  },
  {
   "cell_type": "markdown",
   "id": "b5e632a3",
   "metadata": {},
   "source": [
    "# 13. What can you do to save a programme from crashing if it encounters an error?"
   ]
  },
  {
   "cell_type": "code",
   "execution_count": null,
   "id": "fa0c6ed3",
   "metadata": {},
   "outputs": [],
   "source": [
    "Place the line of code that might cause an error in a try clause."
   ]
  },
  {
   "cell_type": "markdown",
   "id": "4ae8e602",
   "metadata": {},
   "source": [
    "# 14. What is the purpose of the try clause? What is the purpose of the except clause?"
   ]
  },
  {
   "cell_type": "code",
   "execution_count": null,
   "id": "b4c7a1bc",
   "metadata": {},
   "outputs": [],
   "source": [
    "The code that could potentially cause an error goes in the try clause. \n",
    "-The code that executes if an error happens goes in the except clause."
   ]
  }
 ],
 "metadata": {
  "kernelspec": {
   "display_name": "Python 3 (ipykernel)",
   "language": "python",
   "name": "python3"
  },
  "language_info": {
   "codemirror_mode": {
    "name": "ipython",
    "version": 3
   },
   "file_extension": ".py",
   "mimetype": "text/x-python",
   "name": "python",
   "nbconvert_exporter": "python",
   "pygments_lexer": "ipython3",
   "version": "3.10.0"
  }
 },
 "nbformat": 4,
 "nbformat_minor": 5
}
