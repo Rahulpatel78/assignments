{
 "cells": [
  {
   "cell_type": "markdown",
   "id": "784f69a1",
   "metadata": {},
   "source": [
    "# 1. In the below elements which of them are values or an expression? \n",
    "   eg:- values can be integer or string and expressions will be mathematical operators.\n",
    "   * , 'hello' , -87.8 , - , / , +"
   ]
  },
  {
   "cell_type": "code",
   "execution_count": null,
   "id": "d24aeba2",
   "metadata": {},
   "outputs": [],
   "source": [
    "values = 'hello' , -87.8 \n",
    "expression = * , - , / , + "
   ]
  },
  {
   "cell_type": "markdown",
   "id": "275d489d",
   "metadata": {},
   "source": [
    "# 2. What is the difference between string and variable?"
   ]
  },
  {
   "cell_type": "code",
   "execution_count": null,
   "id": "ad37ed3c",
   "metadata": {},
   "outputs": [],
   "source": [
    "variable = variable is something that can hold a value , we can store information in variable . \n",
    "            and the name of variable should tell the information about the value that is stored \n",
    "            in that variable. \n",
    "        \n",
    "string   = we can say that string is a sequence of character . it is also one of the type of information \n",
    "           that we can store in variables\n",
    "    \n",
    "example = name = \"rahul\"\n",
    "\n",
    "  name - variable  and rahul - string"
   ]
  },
  {
   "cell_type": "markdown",
   "id": "fa7cfee9",
   "metadata": {},
   "source": [
    "# 3. Describe three different data types."
   ]
  },
  {
   "cell_type": "code",
   "execution_count": null,
   "id": "d62d3502",
   "metadata": {},
   "outputs": [],
   "source": [
    "string  =  string are text values composed of a sequecnce of charaters  (eg - 'rahul' ,'ram' ,'suman')\n",
    "integer =  positive and negative number without a decimal point         (eg - 456,56,85,54)\n",
    "floating point = real number with a decimal point                       (eg - 465.156,56.26,62.26)"
   ]
  },
  {
   "cell_type": "markdown",
   "id": "af02097d",
   "metadata": {},
   "source": [
    "# 4. What is an expression made up of? What do all expressions do?"
   ]
  },
  {
   "cell_type": "code",
   "execution_count": null,
   "id": "e7530262",
   "metadata": {},
   "outputs": [],
   "source": [
    "Basically, an expression in Python represents something. Be it a string, integer, boolean or otherwise.\n",
    "\n",
    "For example, simply writing\n",
    "\n",
    "\"Hello, Quora!\" \n",
    "in a Python console, is an expression"
   ]
  },
  {
   "cell_type": "markdown",
   "id": "88b08d05",
   "metadata": {},
   "source": [
    "# 5. This assignment statements, like spam = 10. What is the difference between an expression and a statement?"
   ]
  },
  {
   "cell_type": "code",
   "execution_count": null,
   "id": "3157a158",
   "metadata": {},
   "outputs": [],
   "source": [
    "Expressions represent something, while statements do something."
   ]
  },
  {
   "cell_type": "markdown",
   "id": "76ed0e3f",
   "metadata": {},
   "source": [
    "# 6. After running the following code, what does the variable bacon contain?\n",
    " bacon = 22\n",
    " \n",
    " bacon + 1"
   ]
  },
  {
   "cell_type": "code",
   "execution_count": null,
   "id": "769e35c5",
   "metadata": {},
   "outputs": [],
   "source": [
    "after running the code we will get 23"
   ]
  },
  {
   "cell_type": "markdown",
   "id": "dcea9a25",
   "metadata": {},
   "source": [
    "# 7. What should the values of the following two terms be?\n",
    "   'spam' + 'spamspam'\n",
    "   \n",
    "   'spam' * 3"
   ]
  },
  {
   "cell_type": "code",
   "execution_count": 2,
   "id": "f38eb13f",
   "metadata": {},
   "outputs": [
    {
     "data": {
      "text/plain": [
       "'spamspamspam'"
      ]
     },
     "execution_count": 2,
     "metadata": {},
     "output_type": "execute_result"
    }
   ],
   "source": [
    "'spam'+'spamspam'"
   ]
  },
  {
   "cell_type": "code",
   "execution_count": 3,
   "id": "99262a08",
   "metadata": {},
   "outputs": [
    {
     "data": {
      "text/plain": [
       "'spamspamspam'"
      ]
     },
     "execution_count": 3,
     "metadata": {},
     "output_type": "execute_result"
    }
   ],
   "source": [
    "'spam'*3"
   ]
  },
  {
   "cell_type": "code",
   "execution_count": null,
   "id": "4d78605a",
   "metadata": {},
   "outputs": [],
   "source": [
    "The value of both the term will be same "
   ]
  },
  {
   "cell_type": "markdown",
   "id": "0869ea08",
   "metadata": {},
   "source": [
    "# 8. Why is eggs a valid variable name while 100 is invalid?"
   ]
  },
  {
   "cell_type": "code",
   "execution_count": null,
   "id": "012de93e",
   "metadata": {},
   "outputs": [],
   "source": [
    "This is because the variable name you cannot suppose to start with integer it must be start with alphabates \n",
    "exception is that we can also use underscore to start the name of variable. "
   ]
  },
  {
   "cell_type": "markdown",
   "id": "56d4f72f",
   "metadata": {},
   "source": [
    "# 9. What three functions can be used to get the integer, floating-point number, or string version of a value ?"
   ]
  },
  {
   "cell_type": "code",
   "execution_count": null,
   "id": "8209b302",
   "metadata": {},
   "outputs": [],
   "source": [
    "int() - transform the variable into an integer\n",
    "float() - transform the variable into a float\n",
    "str() -  convert a number into a text"
   ]
  },
  {
   "cell_type": "markdown",
   "id": "0419182e",
   "metadata": {},
   "source": [
    "# 10. Why does this expression cause an error? How can you fix it?\n",
    "'I have eaten '' + 99 + 'burritos.'"
   ]
  },
  {
   "cell_type": "code",
   "execution_count": null,
   "id": "0384fef9",
   "metadata": {},
   "outputs": [],
   "source": [
    "The above expression cause an error because we cannot concatenate a string with an integer . so if we want to \n",
    "fix the error we have to convert integer 99 into a string by adding '99'\n",
    "\n",
    "'I have eaten' + '99' + 'burritos'"
   ]
  }
 ],
 "metadata": {
  "kernelspec": {
   "display_name": "Python 3 (ipykernel)",
   "language": "python",
   "name": "python3"
  },
  "language_info": {
   "codemirror_mode": {
    "name": "ipython",
    "version": 3
   },
   "file_extension": ".py",
   "mimetype": "text/x-python",
   "name": "python",
   "nbconvert_exporter": "python",
   "pygments_lexer": "ipython3",
   "version": "3.10.0"
  }
 },
 "nbformat": 4,
 "nbformat_minor": 5
}
