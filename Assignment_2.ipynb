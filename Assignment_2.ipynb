{
 "cells": [
  {
   "cell_type": "markdown",
   "id": "86750c2c",
   "metadata": {},
   "source": [
    "# 1.What are the two values of the Boolean data type ? How do you write them ?"
   ]
  },
  {
   "cell_type": "code",
   "execution_count": null,
   "id": "a61ddfe6",
   "metadata": {},
   "outputs": [],
   "source": [
    "The Boolean data type can be one of two values, either True or False, \n",
    "which are special versions of 1 and 0 respectively and behave as such in arithmetic contexts. \n",
    "We use Booleans in programming to make comparisons and to determine the flow of control in a given program."
   ]
  },
  {
   "cell_type": "code",
   "execution_count": null,
   "id": "e7c67532",
   "metadata": {},
   "outputs": [],
   "source": []
  },
  {
   "cell_type": "markdown",
   "id": "52cc7dcf",
   "metadata": {},
   "source": [
    "# 2. What are the three different types of Boolean operators?"
   ]
  },
  {
   "cell_type": "markdown",
   "id": "162297fe",
   "metadata": {},
   "source": [
    "# 3. Make a list of each Boolean operator's truth tables"
   ]
  },
  {
   "cell_type": "code",
   "execution_count": null,
   "id": "42715d02",
   "metadata": {},
   "outputs": [],
   "source": [
    "And :- And operator check whether the statement arount it are True\n",
    "    \n",
    "    ex:- True and True  -- True \n",
    "         True and False  -- False\n",
    "        False and False  -- False\n",
    "            \n",
    "OR  :- OR operator check whether at least one of the two statement is True \n",
    "     \n",
    "    ex:- False or False -- False\n",
    "        True or True -- True \n",
    "        True or False -- True \n",
    "\n",
    "NOT :- Not operator leads to the opposite of the given statement \n",
    "    \n",
    "    ex:- NOT True -- False \n",
    "        NOT False -- True"
   ]
  },
  {
   "cell_type": "code",
   "execution_count": null,
   "id": "bb42b214",
   "metadata": {},
   "outputs": [],
   "source": []
  },
  {
   "cell_type": "markdown",
   "id": "4da7114f",
   "metadata": {},
   "source": [
    "# 4. What are the values of the following expressions?\n",
    "   "
   ]
  },
  {
   "cell_type": "markdown",
   "id": "ae0cd163",
   "metadata": {},
   "source": [
    "    (5 > 4) and (3 == 5)\n",
    "    not (5 > 4)\n",
    "    (5 > 4) or (3 == 5)\n",
    "    not ((5 >4) or (3 == 5))\n",
    "    (True and True) and (True == False)\n",
    "    (not False) or (not True)"
   ]
  },
  {
   "cell_type": "code",
   "execution_count": 1,
   "id": "d56f4006",
   "metadata": {},
   "outputs": [
    {
     "data": {
      "text/plain": [
       "False"
      ]
     },
     "execution_count": 1,
     "metadata": {},
     "output_type": "execute_result"
    }
   ],
   "source": [
    "(5 > 4) and (3 == 5)"
   ]
  },
  {
   "cell_type": "code",
   "execution_count": 2,
   "id": "5786be3d",
   "metadata": {},
   "outputs": [
    {
     "data": {
      "text/plain": [
       "False"
      ]
     },
     "execution_count": 2,
     "metadata": {},
     "output_type": "execute_result"
    }
   ],
   "source": [
    "not(5 > 4)"
   ]
  },
  {
   "cell_type": "code",
   "execution_count": 3,
   "id": "16f3ac38",
   "metadata": {},
   "outputs": [
    {
     "data": {
      "text/plain": [
       "True"
      ]
     },
     "execution_count": 3,
     "metadata": {},
     "output_type": "execute_result"
    }
   ],
   "source": [
    "(5 > 4) or (3 == 5)"
   ]
  },
  {
   "cell_type": "code",
   "execution_count": 4,
   "id": "52cd0b96",
   "metadata": {},
   "outputs": [
    {
     "data": {
      "text/plain": [
       "False"
      ]
     },
     "execution_count": 4,
     "metadata": {},
     "output_type": "execute_result"
    }
   ],
   "source": [
    "not ((5 >4) or (3 == 5))"
   ]
  },
  {
   "cell_type": "code",
   "execution_count": 5,
   "id": "45fb5f04",
   "metadata": {},
   "outputs": [
    {
     "data": {
      "text/plain": [
       "False"
      ]
     },
     "execution_count": 5,
     "metadata": {},
     "output_type": "execute_result"
    }
   ],
   "source": [
    "(True and True) and (True == False)"
   ]
  },
  {
   "cell_type": "code",
   "execution_count": 6,
   "id": "111c719c",
   "metadata": {},
   "outputs": [
    {
     "data": {
      "text/plain": [
       "True"
      ]
     },
     "execution_count": 6,
     "metadata": {},
     "output_type": "execute_result"
    }
   ],
   "source": [
    "(not False) or (not True)"
   ]
  },
  {
   "cell_type": "code",
   "execution_count": null,
   "id": "c92197d0",
   "metadata": {},
   "outputs": [],
   "source": []
  },
  {
   "cell_type": "markdown",
   "id": "18e07f3e",
   "metadata": {},
   "source": [
    "# 5. What are the six comparison operators?"
   ]
  },
  {
   "cell_type": "code",
   "execution_count": null,
   "id": "37720001",
   "metadata": {},
   "outputs": [],
   "source": [
    "1. ==  --  equal\n",
    "2. !=  --  not equal \n",
    "3. >   --  greater than \n",
    "4. <   --  less than \n",
    "5. >=  --  greater than or equal to \n",
    "6. <=  --  less than or equal to "
   ]
  },
  {
   "cell_type": "code",
   "execution_count": null,
   "id": "217a3a10",
   "metadata": {},
   "outputs": [],
   "source": []
  },
  {
   "cell_type": "markdown",
   "id": "1b6a4431",
   "metadata": {},
   "source": [
    "# 6. How do you tell the difference between the equal to and assignment operators? Describe a condition and when you would use one."
   ]
  },
  {
   "cell_type": "code",
   "execution_count": null,
   "id": "7972b1ad",
   "metadata": {},
   "outputs": [],
   "source": [
    "The major difference between equal to and assignment operator is that \n",
    "if we talk about equal to we need two (==) equal to sign\n",
    "and in assignement operators we need only one (=) equal to  sign "
   ]
  },
  {
   "cell_type": "code",
   "execution_count": null,
   "id": "d55124f4",
   "metadata": {},
   "outputs": [],
   "source": [
    "condition - we use equal to operator to make some comparision operation \n",
    "   we use assignement operators to assign some value to the variable"
   ]
  },
  {
   "cell_type": "code",
   "execution_count": null,
   "id": "860f98e0",
   "metadata": {},
   "outputs": [],
   "source": []
  },
  {
   "cell_type": "markdown",
   "id": "367955d5",
   "metadata": {},
   "source": [
    "# 7. Identify the three blocks in this code:"
   ]
  },
  {
   "cell_type": "code",
   "execution_count": null,
   "id": "89aaade8",
   "metadata": {},
   "outputs": [],
   "source": [
    "spam = 0\n",
    "if spam == 10:\n",
    "    print('eggs')\n",
    "if spam > 5 :\n",
    "    print('bacon')\n",
    "else :\n",
    "    print('ham')\n",
    "    print('spam')\n",
    "    print('spam')"
   ]
  },
  {
   "cell_type": "code",
   "execution_count": null,
   "id": "e9b357b0",
   "metadata": {},
   "outputs": [],
   "source": []
  },
  {
   "cell_type": "markdown",
   "id": "497ebcaa",
   "metadata": {},
   "source": [
    "# 8. Write code that prints Hello if 1 is stored in spam, prints Howdy if 2 is stored in spam, and prints Greetings! if anything else is stored in spam."
   ]
  },
  {
   "cell_type": "code",
   "execution_count": null,
   "id": "80561f3e",
   "metadata": {},
   "outputs": [],
   "source": [
    "if spam == 1 :\n",
    "    print('Hello')\n",
    "if spam == 2 :\n",
    "    print('Howdy')\n",
    "else:\n",
    "    print('Greeting!')"
   ]
  },
  {
   "cell_type": "code",
   "execution_count": null,
   "id": "87839a8d",
   "metadata": {},
   "outputs": [],
   "source": []
  },
  {
   "cell_type": "markdown",
   "id": "7e585a28",
   "metadata": {},
   "source": [
    "# 9.If your programme is stuck in an endless loop, what keys you’ll press?"
   ]
  },
  {
   "cell_type": "code",
   "execution_count": null,
   "id": "3e2b1152",
   "metadata": {},
   "outputs": [],
   "source": [
    "To exit out of infinite loops on the command line , press CTRL + C"
   ]
  },
  {
   "cell_type": "code",
   "execution_count": null,
   "id": "d96bcfd3",
   "metadata": {},
   "outputs": [],
   "source": []
  },
  {
   "cell_type": "markdown",
   "id": "7efd49fd",
   "metadata": {},
   "source": [
    "# 10. How can you tell the difference between break and continue?"
   ]
  },
  {
   "cell_type": "code",
   "execution_count": null,
   "id": "8268cb17",
   "metadata": {},
   "outputs": [],
   "source": [
    "The main difference between both the statements is that when break keyword comes,\n",
    "it terminates the execution of the current loop and passes the control over the next loop or main body,\n",
    "whereas when continue keyword is encountered, it skips the current iteration and executes the very next iteration in the loop."
   ]
  },
  {
   "cell_type": "code",
   "execution_count": null,
   "id": "5150e5b5",
   "metadata": {},
   "outputs": [],
   "source": []
  },
  {
   "cell_type": "markdown",
   "id": "f8eefda6",
   "metadata": {},
   "source": [
    "# 11. In a for loop, what is the difference between range(10), range(0, 10), and range(0, 10, 1)?"
   ]
  },
  {
   "cell_type": "code",
   "execution_count": 13,
   "id": "d930297d",
   "metadata": {
    "collapsed": true
   },
   "outputs": [
    {
     "name": "stdout",
     "output_type": "stream",
     "text": [
      "0\n",
      "1\n",
      "2\n",
      "3\n",
      "4\n",
      "5\n",
      "6\n",
      "7\n",
      "8\n",
      "9\n"
     ]
    }
   ],
   "source": [
    "for i in range(10):\n",
    "    print(i)"
   ]
  },
  {
   "cell_type": "code",
   "execution_count": 14,
   "id": "28be190a",
   "metadata": {
    "collapsed": true
   },
   "outputs": [
    {
     "name": "stdout",
     "output_type": "stream",
     "text": [
      "0\n",
      "1\n",
      "2\n",
      "3\n",
      "4\n",
      "5\n",
      "6\n",
      "7\n",
      "8\n",
      "9\n"
     ]
    }
   ],
   "source": [
    "for i in range(0,10):\n",
    "    print(i)"
   ]
  },
  {
   "cell_type": "code",
   "execution_count": 15,
   "id": "c964bf93",
   "metadata": {
    "collapsed": true
   },
   "outputs": [
    {
     "name": "stdout",
     "output_type": "stream",
     "text": [
      "0\n",
      "1\n",
      "2\n",
      "3\n",
      "4\n",
      "5\n",
      "6\n",
      "7\n",
      "8\n",
      "9\n"
     ]
    }
   ],
   "source": [
    "for i in range(0,10,1):\n",
    "    print(i)"
   ]
  },
  {
   "cell_type": "code",
   "execution_count": null,
   "id": "57dbdf5b",
   "metadata": {},
   "outputs": [],
   "source": [
    "There is no differance between each other . They all will give the same result"
   ]
  },
  {
   "cell_type": "code",
   "execution_count": null,
   "id": "01025ca7",
   "metadata": {},
   "outputs": [],
   "source": []
  },
  {
   "cell_type": "markdown",
   "id": "1222145b",
   "metadata": {},
   "source": [
    "# 12. Write a short program that prints the numbers 1 to 10 using a for loop. Then write an equivalent program that prints the numbers 1 to 10 using a while loop."
   ]
  },
  {
   "cell_type": "code",
   "execution_count": 16,
   "id": "d8f55f63",
   "metadata": {},
   "outputs": [
    {
     "name": "stdout",
     "output_type": "stream",
     "text": [
      "1\n",
      "2\n",
      "3\n",
      "4\n",
      "5\n",
      "6\n",
      "7\n",
      "8\n",
      "9\n",
      "10\n"
     ]
    }
   ],
   "source": [
    "for i in range(1,11):\n",
    "    print(i)"
   ]
  },
  {
   "cell_type": "code",
   "execution_count": 1,
   "id": "f2a379e3",
   "metadata": {},
   "outputs": [
    {
     "name": "stdout",
     "output_type": "stream",
     "text": [
      "1\n",
      "2\n",
      "3\n",
      "4\n",
      "5\n",
      "6\n",
      "7\n",
      "8\n",
      "9\n",
      "10\n"
     ]
    }
   ],
   "source": [
    "a = 1 \n",
    "while a <= 10:\n",
    "    print(a)\n",
    "    a = a+1"
   ]
  },
  {
   "cell_type": "code",
   "execution_count": null,
   "id": "df2cd541",
   "metadata": {},
   "outputs": [],
   "source": []
  },
  {
   "cell_type": "markdown",
   "id": "4dca16ce",
   "metadata": {},
   "source": [
    "# 13. If you had a function named bacon() inside a module named spam, how would you call it after importing spam?"
   ]
  },
  {
   "cell_type": "code",
   "execution_count": null,
   "id": "503da484",
   "metadata": {},
   "outputs": [],
   "source": [
    "spam.bacon()"
   ]
  }
 ],
 "metadata": {
  "kernelspec": {
   "display_name": "Python 3 (ipykernel)",
   "language": "python",
   "name": "python3"
  },
  "language_info": {
   "codemirror_mode": {
    "name": "ipython",
    "version": 3
   },
   "file_extension": ".py",
   "mimetype": "text/x-python",
   "name": "python",
   "nbconvert_exporter": "python",
   "pygments_lexer": "ipython3",
   "version": "3.10.0"
  }
 },
 "nbformat": 4,
 "nbformat_minor": 5
}
