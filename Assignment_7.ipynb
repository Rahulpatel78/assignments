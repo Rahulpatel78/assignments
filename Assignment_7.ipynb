{
 "cells": [
  {
   "cell_type": "markdown",
   "id": "f7cf0bb3",
   "metadata": {},
   "source": [
    "# 1. What is the name of the feature responsible for generating Regex objects?"
   ]
  },
  {
   "cell_type": "code",
   "execution_count": null,
   "id": "70348b31",
   "metadata": {},
   "outputs": [],
   "source": [
    "Python’s re.compile() method is used to compile a regular expression pattern provided as a string into a regex pattern object "
   ]
  },
  {
   "cell_type": "markdown",
   "id": "24759bfc",
   "metadata": {},
   "source": [
    "# 2. Why do raw strings often appear in Regex objects?"
   ]
  },
  {
   "cell_type": "code",
   "execution_count": null,
   "id": "966a3fef",
   "metadata": {},
   "outputs": [],
   "source": [
    "Python raw string is created by prefixing a string literal with ‘r’ or ‘R’.\n",
    "Python raw string treats backslash (\\) as a literal character.\n",
    "This is useful when we want to have a string that contains backslash and don’t want it to be treated as an escape character."
   ]
  },
  {
   "cell_type": "code",
   "execution_count": 1,
   "id": "97a2ac2a",
   "metadata": {},
   "outputs": [
    {
     "name": "stdout",
     "output_type": "stream",
     "text": [
      "Hi\n",
      "Hello\n"
     ]
    }
   ],
   "source": [
    "#If we try to assign it to a normal string, the \\n will be treated as a new line.\n",
    "s = 'Hi\\nHello'\n",
    "print(s)"
   ]
  },
  {
   "cell_type": "code",
   "execution_count": 2,
   "id": "69c0e9f6",
   "metadata": {},
   "outputs": [
    {
     "name": "stdout",
     "output_type": "stream",
     "text": [
      "Hi\\nHello\n"
     ]
    }
   ],
   "source": [
    "#raw string helps us in treating backslash as a normal character.\n",
    "raw_s = r'Hi\\nHello'\n",
    "print(raw_s)"
   ]
  },
  {
   "cell_type": "markdown",
   "id": "90eb39ee",
   "metadata": {},
   "source": [
    "# 3. What is the return value of the search() method?"
   ]
  },
  {
   "cell_type": "code",
   "execution_count": null,
   "id": "13c02093",
   "metadata": {},
   "outputs": [],
   "source": [
    "Python re.search() is an inbuilt regex function that searches the string for a match and returns the match object .\n",
    "The re.search() function takes two parameters and returns a match object if there is a match.\n",
    "\n",
    "re.search(pattern, string)\n"
   ]
  },
  {
   "cell_type": "code",
   "execution_count": 3,
   "id": "6193a8fa",
   "metadata": {},
   "outputs": [
    {
     "name": "stdout",
     "output_type": "stream",
     "text": [
      "The first white-space character is located in position: 7\n"
     ]
    }
   ],
   "source": [
    "import re\n",
    "\n",
    "name = \"Millie Finn Gaten\"\n",
    "sub_str = re.search(\"Finn\", name)\n",
    "\n",
    "print(\"The first white-space character is located in position:\", sub_str.start())"
   ]
  },
  {
   "cell_type": "markdown",
   "id": "9d4e288f",
   "metadata": {},
   "source": [
    "# 4. From a Match item, how do you get the actual strings that match the pattern?"
   ]
  },
  {
   "cell_type": "code",
   "execution_count": 4,
   "id": "f8d00343",
   "metadata": {},
   "outputs": [
    {
     "name": "stdout",
     "output_type": "stream",
     "text": [
      "Phone number found: 415-555-4242\n"
     ]
    }
   ],
   "source": [
    "import re\n",
    "phoneNumRegex = re.compile(r'\\d\\d\\d-\\d\\d\\d-\\d\\d\\d\\d')\n",
    "mo = phoneNumRegex.search('My number is 415-555-4242.')\n",
    "print('Phone number found: ' + mo.group())"
   ]
  },
  {
   "cell_type": "code",
   "execution_count": null,
   "id": "2c180b6c",
   "metadata": {},
   "outputs": [],
   "source": [
    "Import the regex module with import re.\n",
    "\n",
    "Create a Regex object with the re.compile() function. (Remember to use a raw string.)\n",
    "\n",
    "Pass the string you want to search into the Regex object’s search() method. This returns a Match object.\n",
    "\n",
    "Call the Match object’s group() method to return a string of the actual matched text."
   ]
  },
  {
   "cell_type": "markdown",
   "id": "dffe38a0",
   "metadata": {},
   "source": [
    "# 5. In the regex which created from the r'(\\d\\d\\d)-(\\d\\d\\d-\\d\\d\\d\\d)', what does group zero cover? Group 2? Group 1?"
   ]
  },
  {
   "cell_type": "code",
   "execution_count": 16,
   "id": "24665c94",
   "metadata": {},
   "outputs": [],
   "source": [
    "number = '''496-154-5656'''"
   ]
  },
  {
   "cell_type": "code",
   "execution_count": 18,
   "id": "0083014a",
   "metadata": {},
   "outputs": [
    {
     "name": "stdout",
     "output_type": "stream",
     "text": [
      "496-154-5656\n",
      "154-5656\n",
      "496\n"
     ]
    }
   ],
   "source": [
    "import re\n",
    "phoneNumRegex = re.compile(r'(\\d\\d\\d)-(\\d\\d\\d-\\d\\d\\d\\d)')\n",
    "matches = phoneNumRegex.finditer(number)\n",
    "for match in matches:\n",
    "    print(match.group(0)) #Group 0 is the entire match\n",
    "    print(match.group(2)) #Group 2 covers the second set of parentheses\n",
    "    print(match.group(1)) #Group 1 covers the first set of parentheses\n"
   ]
  },
  {
   "cell_type": "markdown",
   "id": "2c0b6262",
   "metadata": {},
   "source": [
    "# 6. In standard expression syntax, parentheses and intervals have distinct meanings. How can you tell a regex that you want it to fit real parentheses and periods?"
   ]
  },
  {
   "cell_type": "code",
   "execution_count": null,
   "id": "70f782ba",
   "metadata": {},
   "outputs": [],
   "source": [
    "Periods and parentheses can be escaped with a backslash: \\., \\(, and \\)."
   ]
  },
  {
   "cell_type": "markdown",
   "id": "ac3872cf",
   "metadata": {},
   "source": [
    "# 7. The findall() method returns a string list or a list of string tuples. What causes it to return one of the two options?"
   ]
  },
  {
   "cell_type": "code",
   "execution_count": null,
   "id": "ccf74dc8",
   "metadata": {},
   "outputs": [],
   "source": [
    "If the regex has no groups, a list of strings is returned.\n",
    "If the regex has groups, a list of tuples of strings is returned."
   ]
  },
  {
   "cell_type": "markdown",
   "id": "6fe7fdab",
   "metadata": {},
   "source": [
    "# 8. In standard expressions, what does the | character mean?"
   ]
  },
  {
   "cell_type": "code",
   "execution_count": null,
   "id": "fcbc6876",
   "metadata": {},
   "outputs": [],
   "source": [
    "The choice (also known as alternation ) operator matches either the expression before or the expression after the operator.\n",
    "For example, rahul | atul  matches \"rahul\" or \"atul\"."
   ]
  },
  {
   "cell_type": "markdown",
   "id": "c1d75433",
   "metadata": {},
   "source": [
    "# 10.In regular expressions, what is the difference between the + and * characters?"
   ]
  },
  {
   "cell_type": "code",
   "execution_count": null,
   "id": "926430af",
   "metadata": {},
   "outputs": [],
   "source": [
    "Both are quantifiers,\n",
    "\n",
    "the star quantifier(*) means that the preceding expression can match zero or more times it is like {0,}\n",
    "\n",
    "the plus quantifier(+) indicate that the preceding expression MUST match at least one time or multiple times and \n",
    "it is the same as {1,} ."
   ]
  },
  {
   "cell_type": "code",
   "execution_count": null,
   "id": "58f55ad0",
   "metadata": {},
   "outputs": [],
   "source": [
    "a*  ---> a{0,}  ---> Match a or aa or aaaaa or an empty string\n",
    "a+  ---> a{1,}  ---> Match a or aa or aaaa but not a string empty"
   ]
  },
  {
   "cell_type": "markdown",
   "id": "b77e5da8",
   "metadata": {},
   "source": [
    "# 11. What is the difference between {4} and {4,5} in regular expression?"
   ]
  },
  {
   "cell_type": "code",
   "execution_count": null,
   "id": "aa74d746",
   "metadata": {},
   "outputs": [],
   "source": [
    "{4} means that the preceding character is to be repeated 4 times\n",
    "{4,5} means that the preceding character is repeated at least 4 & at most 5 times."
   ]
  },
  {
   "cell_type": "markdown",
   "id": "fce71a2e",
   "metadata": {},
   "source": [
    "# 12. What do you mean by the \\d, \\w, and \\s shorthand character classes signify in regular expressions?"
   ]
  },
  {
   "cell_type": "code",
   "execution_count": null,
   "id": "04973bb9",
   "metadata": {},
   "outputs": [],
   "source": [
    "\\d      \t    Matches any decimal digit, this is equivalent to the set class [0-9]\n",
    "\\w      \t    Matches any alphanumeric character, this is equivalent to the class [a-zA-Z0-9_]\n",
    "\\s      \t    Matches any whitespace character."
   ]
  },
  {
   "cell_type": "markdown",
   "id": "a982e9fd",
   "metadata": {},
   "source": [
    "# 13. What do means by \\D, \\W, and \\S shorthand character classes signify in regular expressions?"
   ]
  },
  {
   "cell_type": "code",
   "execution_count": null,
   "id": "9822d11f",
   "metadata": {},
   "outputs": [],
   "source": [
    "\\D      \t    Matches any non-digit character, this is equivalent to the set class [^0-9]\n",
    "\\W      \t    Matches any non-alphanumeric character\n",
    "\\S      \t    Matches any non-whitespace character"
   ]
  },
  {
   "cell_type": "markdown",
   "id": "3f369996",
   "metadata": {},
   "source": [
    "# 14. What is the difference between .\\*? and .\\*?"
   ]
  },
  {
   "cell_type": "code",
   "execution_count": null,
   "id": "3e578e7c",
   "metadata": {},
   "outputs": [],
   "source": [
    " The .* performs a greedy match, and the .*? performs a nongreedy match."
   ]
  },
  {
   "cell_type": "code",
   "execution_count": null,
   "id": "b5d347b1",
   "metadata": {},
   "outputs": [],
   "source": [
    "First focus on what A.*Z does. When it matched the first A, the .*, being greedy, first tries to match as many .as possible.\n",
    "                    eeeAiiZuuuuAoooZeeee\n",
    "                       \\_______________/\n",
    "                        A.* matched, Z can't match"
   ]
  },
  {
   "cell_type": "code",
   "execution_count": null,
   "id": "5f42a833",
   "metadata": {},
   "outputs": [],
   "source": [
    "Since the Z doesn't match, the engine backtracks, and .* must then match one fewer .:\n",
    "                    eeeAiiZuuuuAoooZeeee\n",
    "                       \\______________/\n",
    "                        A.* matched, Z still can't match"
   ]
  },
  {
   "cell_type": "code",
   "execution_count": null,
   "id": "fbac1a23",
   "metadata": {},
   "outputs": [],
   "source": [
    "This happens a few more times, until finally we come to this:\n",
    "                    eeeAiiZuuuuAoooZeeee\n",
    "                       \\__________/\n",
    "                        A.* matched, Z can now match"
   ]
  },
  {
   "cell_type": "code",
   "execution_count": null,
   "id": "956c4b49",
   "metadata": {},
   "outputs": [],
   "source": [
    "Now Z can match, so the overall pattern matches:\n",
    "                    eeeAiiZuuuuAoooZeeee\n",
    "                       \\___________/\n",
    "                        A.*Z matched"
   ]
  },
  {
   "cell_type": "code",
   "execution_count": null,
   "id": "9bc1cfa2",
   "metadata": {},
   "outputs": [],
   "source": [
    "By contrast,\n",
    "the reluctant repetition in A.*?Z first matches as few . as possible, and then taking more . as necessary.\n",
    "This explains why it finds two matches in the input.\n",
    "\n",
    "Here's a visual representation of what the two patterns matched:\n",
    "\n",
    "                    eeeAiiZuuuuAoooZeeee\n",
    "                       \\__/r   \\___/r      r = reluctant\n",
    "                        \\____g____/        g = greedy"
   ]
  },
  {
   "cell_type": "markdown",
   "id": "593ac6bc",
   "metadata": {},
   "source": [
    "# 15. What is the syntax for matching both numbers and lowercase letters with a character class?"
   ]
  },
  {
   "cell_type": "code",
   "execution_count": null,
   "id": "7e50b5d6",
   "metadata": {},
   "outputs": [],
   "source": [
    "Either [0-9a-z] or [a-z0-9]"
   ]
  },
  {
   "cell_type": "markdown",
   "id": "6380958b",
   "metadata": {},
   "source": [
    "# 16. What is the procedure for making a normal expression in regax case insensitive?"
   ]
  },
  {
   "cell_type": "code",
   "execution_count": null,
   "id": "db70ce76",
   "metadata": {},
   "outputs": [],
   "source": [
    "Passing re.I or re.IGNORECASE as the second argument to re.compile() will make the matching case insensitive."
   ]
  },
  {
   "cell_type": "markdown",
   "id": "d1bd9a66",
   "metadata": {},
   "source": [
    "# 17. What does the . character normally match? What does it match if re.DOTALL is passed as 2nd argument in re.compile()?"
   ]
  },
  {
   "cell_type": "code",
   "execution_count": null,
   "id": "d59db9f9",
   "metadata": {},
   "outputs": [],
   "source": [
    "The . character normally matches any character except the newline character. \n",
    "If re.DOTALL is passed as the second argument to re.compile(), then the dot will also match newline characters."
   ]
  },
  {
   "cell_type": "markdown",
   "id": "13ddcd1f",
   "metadata": {},
   "source": [
    "# 18. If numReg = re.compile(r'\\d'), what will numRegex.sub('X', '11 drummers, 10 pipers, five rings, 4 hen') return?"
   ]
  },
  {
   "cell_type": "code",
   "execution_count": 21,
   "id": "2d74e78a",
   "metadata": {},
   "outputs": [
    {
     "data": {
      "text/plain": [
       "'XX drummers, XX pipers, five rings, X hen'"
      ]
     },
     "execution_count": 21,
     "metadata": {},
     "output_type": "execute_result"
    }
   ],
   "source": [
    "numReg = re.compile(r'\\d')\n",
    "numReg.sub('X', '11 drummers, 10 pipers, five rings, 4 hen') \n"
   ]
  },
  {
   "cell_type": "markdown",
   "id": "31609f8a",
   "metadata": {},
   "source": [
    "# 19. What does passing re.VERBOSE as the 2nd argument to re.compile() allow to do?"
   ]
  },
  {
   "cell_type": "code",
   "execution_count": null,
   "id": "fb712621",
   "metadata": {},
   "outputs": [],
   "source": [
    "The re.VERBOSE argument allows you to add whitespace and comments to the string passed to re.compile()\n",
    "# Without Using VERBOSE\n",
    "regex_email = re.compile(r'^([a-z0-9_\\.-]+)@([0-9a-z\\.-]+)\\.([a-z\\.]{2, 6})$',\n",
    "              re.IGNORECASE)\n",
    "   \n",
    "# Using VERBOSE\n",
    "regex_email = re.compile(r\"\"\"\n",
    "            ^([a-z0-9_\\.-]+)              # local Part\n",
    "            @                             # single @ sign\n",
    "            ([0-9a-z\\.-]+)                # Domain name\n",
    "            \\.                            # single Dot .\n",
    "            ([a-z]{2,6})$                 # Top level Domain  \n",
    "             \"\"\",re.VERBOSE | re.IGNORECASE)   "
   ]
  },
  {
   "cell_type": "code",
   "execution_count": null,
   "id": "9e1bac9b",
   "metadata": {},
   "outputs": [],
   "source": []
  },
  {
   "cell_type": "markdown",
   "id": "5baffe5b",
   "metadata": {},
   "source": [
    "# 21. How would you write a regex that matches the full name of someone whose last name is Watanabe? You can assume that the first name that comes before it will always be one word that begins with a capital letter. The regex must match the following:\n",
    "\n",
    "'Haruto Watanabe'\n",
    "\n",
    "'Alice Watanabe'\n",
    "\n",
    "'RoboCop Watanabe'\n",
    "\n",
    "but not the following:\n",
    "    \n",
    "'haruto Watanabe' (where the first name is not capitalized)\n",
    "\n",
    "'Mr. Watanabe' (where the preceding word has a nonletter character)\n",
    "\n",
    "'Watanabe' (which has no first name)\n",
    "\n",
    "'Haruto watanabe' (where Watanabe is not capitalized)"
   ]
  },
  {
   "cell_type": "code",
   "execution_count": 46,
   "id": "992174a1",
   "metadata": {},
   "outputs": [],
   "source": [
    "name = '''Haruto Watanabe'\n",
    "\n",
    "'Alice Watanabe'\n",
    "\n",
    "'RoboCop Watanabe'\n",
    "    \n",
    "'haruto Watanabe' (where the first name is not capitalized)\n",
    "\n",
    "'Mr. Watanabe' (where the preceding word has a nonletter character)\n",
    "\n",
    "'Watanabe' (which has no first name)\n",
    "\n",
    "'Haruto watanabe' (where Watanabe is not capitalized)'''"
   ]
  },
  {
   "cell_type": "code",
   "execution_count": 57,
   "id": "356429cf",
   "metadata": {},
   "outputs": [
    {
     "name": "stdout",
     "output_type": "stream",
     "text": [
      "<re.Match object; span=(0, 15), match='Haruto Watanabe'>\n",
      "<re.Match object; span=(19, 33), match='Alice Watanabe'>\n",
      "<re.Match object; span=(41, 53), match='Cop Watanabe'>\n"
     ]
    }
   ],
   "source": [
    "pattern = re.compile(r'[A-Z][a-z]*\\sWatanabe')\n",
    "matches = pattern.finditer(name)\n",
    "for match in matches:\n",
    "    print(match)"
   ]
  },
  {
   "cell_type": "code",
   "execution_count": null,
   "id": "0c7632be",
   "metadata": {},
   "outputs": [],
   "source": []
  },
  {
   "cell_type": "markdown",
   "id": "2a95b376",
   "metadata": {},
   "source": [
    "# 22. How would you write a regex that matches a sentence where the first word is either Alice, Bob,or Carol; the second word is either eats, pets, or throws; the third word is apples, cats, or baseballs;and the sentence ends with a period? This regex should be case-insensitive. It must match thefollowing:\n",
    "'Alice eats apples.'\n",
    "\n",
    "'Bob pets cats.'\n",
    "\n",
    "'Carol throws baseballs.'\n",
    "\n",
    "'Alice throws Apples.'\n",
    "\n",
    "'BOB EATS CATS.'\n",
    "\n",
    "but not the following:\n",
    "\n",
    "'RoboCop eats apples.'\n",
    "\n",
    "'ALICE THROWS FOOTBALLS.'\n",
    "\n",
    "'Carol eats 7 cats.'"
   ]
  },
  {
   "cell_type": "code",
   "execution_count": 37,
   "id": "bef578e9",
   "metadata": {},
   "outputs": [],
   "source": [
    "text = '''\n",
    "'Alice eats apples.'\n",
    "\n",
    "'Bob pets cats.'\n",
    "\n",
    "'Carol throws baseballs.'\n",
    "\n",
    "'Alice throws Apples.'\n",
    "\n",
    "'BOB EATS CATS.'\n",
    "\n",
    "but not the following:\n",
    "\n",
    "'RoboCop eats apples.'\n",
    "\n",
    "'ALICE THROWS FOOTBALLS.'\n",
    "\n",
    "'Carol eats 7 cats.'''\n"
   ]
  },
  {
   "cell_type": "code",
   "execution_count": 45,
   "id": "28fb626d",
   "metadata": {},
   "outputs": [
    {
     "name": "stdout",
     "output_type": "stream",
     "text": [
      "<re.Match object; span=(2, 20), match='Alice eats apples.'>\n",
      "<re.Match object; span=(24, 38), match='Bob pets cats.'>\n",
      "<re.Match object; span=(42, 65), match='Carol throws baseballs.'>\n",
      "<re.Match object; span=(69, 89), match='Alice throws Apples.'>\n",
      "<re.Match object; span=(93, 107), match='BOB EATS CATS.'>\n"
     ]
    }
   ],
   "source": [
    "pattern = re.compile(r'(Alice|Bob|Carol)\\s(eats|pets|throws)\\s(apples|cats|baseballs)\\.',re.IGNORECASE)\n",
    "matches = pattern.finditer(text)\n",
    "for match in matches:\n",
    "    print(match)"
   ]
  },
  {
   "cell_type": "code",
   "execution_count": null,
   "id": "64519ec3",
   "metadata": {},
   "outputs": [],
   "source": []
  }
 ],
 "metadata": {
  "kernelspec": {
   "display_name": "Python 3 (ipykernel)",
   "language": "python",
   "name": "python3"
  },
  "language_info": {
   "codemirror_mode": {
    "name": "ipython",
    "version": 3
   },
   "file_extension": ".py",
   "mimetype": "text/x-python",
   "name": "python",
   "nbconvert_exporter": "python",
   "pygments_lexer": "ipython3",
   "version": "3.9.7"
  }
 },
 "nbformat": 4,
 "nbformat_minor": 5
}
